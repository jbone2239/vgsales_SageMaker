{
 "cells": [
  {
   "cell_type": "code",
   "execution_count": 6,
   "id": "669ea147-47a6-4311-b65a-7bfcd438b0b3",
   "metadata": {},
   "outputs": [
    {
     "name": "stdout",
     "output_type": "stream",
     "text": [
      "Uploaded to S3: s3://sagemaker-us-east-2-411482901950/vgsales-data/vgsales.csv\n"
     ]
    }
   ],
   "source": [
    "# upload vgsales.csv to S3\n",
    "import sagemaker\n",
    "from sagemaker import get_execution_role\n",
    "from sagemaker.session import Session\n",
    "\n",
    "session = sagemaker.Session()\n",
    "role = get_execution_role()\n",
    "\n",
    "# upload dataset\n",
    "s3_uri = session.upload_data(\"vgsales.csv\", bucket=session.default_bucket(), key_prefix=\"vgsales-data\")\n",
    "print(\"Uploaded to S3:\", s3_uri)\n"
   ]
  },
  {
   "cell_type": "code",
   "execution_count": 9,
   "id": "27589a93-ca18-436e-bbcd-810b6f5da249",
   "metadata": {},
   "outputs": [
    {
     "name": "stdout",
     "output_type": "stream",
     "text": [
      "Writing vgsales_model.py\n"
     ]
    }
   ],
   "source": [
    "%%writefile vgsales_model.py\n",
    "import pandas as pd\n",
    "import numpy as np\n",
    "import joblib\n",
    "import os\n",
    "from sklearn.ensemble import RandomForestClassifier\n",
    "from sklearn.preprocessing import LabelEncoder\n",
    "from io import StringIO\n",
    "\n",
    "def model_fn(model_dir):\n",
    "    model = joblib.load(os.path.join(model_dir, \"vgsales_model.pkl\"))\n",
    "    return model\n",
    "\n",
    "def input_fn(request_body, request_content_type):\n",
    "    if request_content_type == 'text/csv':\n",
    "        columns = ['Platform', 'Genre', 'Publisher', 'Year']\n",
    "        input_df = pd.read_csv(StringIO(request_body), names=columns)\n",
    "        return input_df\n",
    "    else:\n",
    "        raise ValueError(\"Unsupported content type: \" + request_content_type)\n",
    "\n",
    "def output_fn(prediction, content_type):\n",
    "    if content_type == \"text/csv\":\n",
    "        return ','.join(str(x) for x in prediction)\n",
    "    else:\n",
    "        raise ValueError(\"Unsupported content type: \" + content_type)\n",
    "\n",
    "def predict_fn(input_data, model):\n",
    "    model_columns = joblib.load(os.path.join(\"/opt/ml/model\", \"model_columns.pkl\"))\n",
    "    le = joblib.load(os.path.join(\"/opt/ml/model\", \"label_encoder.pkl\"))\n",
    "\n",
    "    input_data_encoded = pd.get_dummies(input_data)\n",
    "    for col in model_columns:\n",
    "        if col not in input_data_encoded:\n",
    "            input_data_encoded[col] = 0\n",
    "    input_data_encoded = input_data_encoded[model_columns]\n",
    "\n",
    "    predictions = model.predict(input_data_encoded)\n",
    "    return le.inverse_transform(predictions)\n",
    "\n",
    "def main():\n",
    "    df = pd.read_csv(\"/opt/ml/input/data/training/vgsales.csv\")\n",
    "    df = df.dropna(subset=['Platform', 'Genre', 'Publisher', 'Year', 'NA_Sales', 'EU_Sales', 'JP_Sales'])\n",
    "\n",
    "    def get_top_region(row):\n",
    "        return max(['NA_Sales', 'EU_Sales', 'JP_Sales'], key=lambda region: row[region])\n",
    "    df['Top_Region'] = df.apply(get_top_region, axis=1)\n",
    "\n",
    "    df = df.drop(columns=['NA_Sales', 'EU_Sales', 'JP_Sales', 'Other_Sales', 'Global_Sales'])\n",
    "\n",
    "    X = df[['Platform', 'Genre', 'Publisher', 'Year']]\n",
    "    y = df['Top_Region']\n",
    "\n",
    "    X_encoded = pd.get_dummies(X)\n",
    "    model_columns = X_encoded.columns.tolist()\n",
    "    le = LabelEncoder()\n",
    "    y_encoded = le.fit_transform(y)\n",
    "\n",
    "    model = RandomForestClassifier(n_estimators=100, random_state=42)\n",
    "    model.fit(X_encoded, y_encoded)\n",
    "\n",
    "    model_dir = \"/opt/ml/model\"\n",
    "    os.makedirs(model_dir, exist_ok=True)\n",
    "    joblib.dump(model, os.path.join(model_dir, \"vgsales_model.pkl\"))\n",
    "    joblib.dump(le, os.path.join(model_dir, \"label_encoder.pkl\"))\n",
    "    joblib.dump(model_columns, os.path.join(model_dir, \"model_columns.pkl\"))\n",
    "\n",
    "if __name__ == \"__main__\":\n",
    "    main()\n"
   ]
  },
  {
   "cell_type": "code",
   "execution_count": 11,
   "id": "04f599f4-76cb-4150-b5d9-658626164384",
   "metadata": {},
   "outputs": [
    {
     "name": "stderr",
     "output_type": "stream",
     "text": [
      "INFO:sagemaker.telemetry.telemetry_logging:SageMaker Python SDK will collect telemetry to help us better understand our user's needs, diagnose issues, and deliver additional features.\n",
      "To opt out of telemetry, please disable via TelemetryOptOut parameter in SDK defaults config. For more information, refer to https://sagemaker.readthedocs.io/en/stable/overview.html#configuring-and-using-defaults-with-the-sagemaker-python-sdk.\n",
      "INFO:sagemaker:Creating training-job with name: sagemaker-scikit-learn-2025-05-29-15-51-34-153\n"
     ]
    },
    {
     "name": "stdout",
     "output_type": "stream",
     "text": [
      "2025-05-29 15:51:39 Starting - Starting the training job...\n",
      "2025-05-29 15:52:10 Downloading - Downloading input data...\n",
      "2025-05-29 15:52:36 Downloading - Downloading the training image.....\u001b[34m2025-05-29 15:53:20,503 sagemaker-containers INFO     Imported framework sagemaker_sklearn_container.training\u001b[0m\n",
      "\u001b[34m2025-05-29 15:53:20,506 sagemaker-training-toolkit INFO     No GPUs detected (normal if no gpus installed)\u001b[0m\n",
      "\u001b[34m2025-05-29 15:53:20,543 sagemaker_sklearn_container.training INFO     Invoking user training script.\u001b[0m\n",
      "\u001b[34m2025-05-29 15:53:20,905 sagemaker-training-toolkit INFO     No GPUs detected (normal if no gpus installed)\u001b[0m\n",
      "\u001b[34m2025-05-29 15:53:20,917 sagemaker-training-toolkit INFO     No GPUs detected (normal if no gpus installed)\u001b[0m\n",
      "\u001b[34m2025-05-29 15:53:20,929 sagemaker-training-toolkit INFO     No GPUs detected (normal if no gpus installed)\u001b[0m\n",
      "\u001b[34m2025-05-29 15:53:20,938 sagemaker-training-toolkit INFO     Invoking user script\u001b[0m\n",
      "\u001b[34mTraining Env:\u001b[0m\n",
      "\u001b[34m{\n",
      "    \"additional_framework_parameters\": {},\n",
      "    \"channel_input_dirs\": {\n",
      "        \"training\": \"/opt/ml/input/data/training\"\n",
      "    },\n",
      "    \"current_host\": \"algo-1\",\n",
      "    \"framework_module\": \"sagemaker_sklearn_container.training:main\",\n",
      "    \"hosts\": [\n",
      "        \"algo-1\"\n",
      "    ],\n",
      "    \"hyperparameters\": {},\n",
      "    \"input_config_dir\": \"/opt/ml/input/config\",\n",
      "    \"input_data_config\": {\n",
      "        \"training\": {\n",
      "            \"TrainingInputMode\": \"File\",\n",
      "            \"S3DistributionType\": \"FullyReplicated\",\n",
      "            \"RecordWrapperType\": \"None\"\n",
      "        }\n",
      "    },\n",
      "    \"input_dir\": \"/opt/ml/input\",\n",
      "    \"is_master\": true,\n",
      "    \"job_name\": \"sagemaker-scikit-learn-2025-05-29-15-51-34-153\",\n",
      "    \"log_level\": 20,\n",
      "    \"master_hostname\": \"algo-1\",\n",
      "    \"model_dir\": \"/opt/ml/model\",\n",
      "    \"module_dir\": \"s3://sagemaker-us-east-2-411482901950/sagemaker-scikit-learn-2025-05-29-15-51-34-153/source/sourcedir.tar.gz\",\n",
      "    \"module_name\": \"vgsales_model\",\n",
      "    \"network_interface_name\": \"eth0\",\n",
      "    \"num_cpus\": 2,\n",
      "    \"num_gpus\": 0,\n",
      "    \"output_data_dir\": \"/opt/ml/output/data\",\n",
      "    \"output_dir\": \"/opt/ml/output\",\n",
      "    \"output_intermediate_dir\": \"/opt/ml/output/intermediate\",\n",
      "    \"resource_config\": {\n",
      "        \"current_host\": \"algo-1\",\n",
      "        \"current_instance_type\": \"ml.m5.large\",\n",
      "        \"current_group_name\": \"homogeneousCluster\",\n",
      "        \"hosts\": [\n",
      "            \"algo-1\"\n",
      "        ],\n",
      "        \"instance_groups\": [\n",
      "            {\n",
      "                \"instance_group_name\": \"homogeneousCluster\",\n",
      "                \"instance_type\": \"ml.m5.large\",\n",
      "                \"hosts\": [\n",
      "                    \"algo-1\"\n",
      "                ]\n",
      "            }\n",
      "        ],\n",
      "        \"network_interface_name\": \"eth0\"\n",
      "    },\n",
      "    \"user_entry_point\": \"vgsales_model.py\"\u001b[0m\n",
      "\u001b[34m}\u001b[0m\n",
      "\u001b[34mEnvironment variables:\u001b[0m\n",
      "\u001b[34mSM_HOSTS=[\"algo-1\"]\u001b[0m\n",
      "\u001b[34mSM_NETWORK_INTERFACE_NAME=eth0\u001b[0m\n",
      "\u001b[34mSM_HPS={}\u001b[0m\n",
      "\u001b[34mSM_USER_ENTRY_POINT=vgsales_model.py\u001b[0m\n",
      "\u001b[34mSM_FRAMEWORK_PARAMS={}\u001b[0m\n",
      "\u001b[34mSM_RESOURCE_CONFIG={\"current_group_name\":\"homogeneousCluster\",\"current_host\":\"algo-1\",\"current_instance_type\":\"ml.m5.large\",\"hosts\":[\"algo-1\"],\"instance_groups\":[{\"hosts\":[\"algo-1\"],\"instance_group_name\":\"homogeneousCluster\",\"instance_type\":\"ml.m5.large\"}],\"network_interface_name\":\"eth0\"}\u001b[0m\n",
      "\u001b[34mSM_INPUT_DATA_CONFIG={\"training\":{\"RecordWrapperType\":\"None\",\"S3DistributionType\":\"FullyReplicated\",\"TrainingInputMode\":\"File\"}}\u001b[0m\n",
      "\u001b[34mSM_OUTPUT_DATA_DIR=/opt/ml/output/data\u001b[0m\n",
      "\u001b[34mSM_CHANNELS=[\"training\"]\u001b[0m\n",
      "\u001b[34mSM_CURRENT_HOST=algo-1\u001b[0m\n",
      "\u001b[34mSM_MODULE_NAME=vgsales_model\u001b[0m\n",
      "\u001b[34mSM_LOG_LEVEL=20\u001b[0m\n",
      "\u001b[34mSM_FRAMEWORK_MODULE=sagemaker_sklearn_container.training:main\u001b[0m\n",
      "\u001b[34mSM_INPUT_DIR=/opt/ml/input\u001b[0m\n",
      "\u001b[34mSM_INPUT_CONFIG_DIR=/opt/ml/input/config\u001b[0m\n",
      "\u001b[34mSM_OUTPUT_DIR=/opt/ml/output\u001b[0m\n",
      "\u001b[34mSM_NUM_CPUS=2\u001b[0m\n",
      "\u001b[34mSM_NUM_GPUS=0\u001b[0m\n",
      "\u001b[34mSM_MODEL_DIR=/opt/ml/model\u001b[0m\n",
      "\u001b[34mSM_MODULE_DIR=s3://sagemaker-us-east-2-411482901950/sagemaker-scikit-learn-2025-05-29-15-51-34-153/source/sourcedir.tar.gz\u001b[0m\n",
      "\u001b[34mSM_TRAINING_ENV={\"additional_framework_parameters\":{},\"channel_input_dirs\":{\"training\":\"/opt/ml/input/data/training\"},\"current_host\":\"algo-1\",\"framework_module\":\"sagemaker_sklearn_container.training:main\",\"hosts\":[\"algo-1\"],\"hyperparameters\":{},\"input_config_dir\":\"/opt/ml/input/config\",\"input_data_config\":{\"training\":{\"RecordWrapperType\":\"None\",\"S3DistributionType\":\"FullyReplicated\",\"TrainingInputMode\":\"File\"}},\"input_dir\":\"/opt/ml/input\",\"is_master\":true,\"job_name\":\"sagemaker-scikit-learn-2025-05-29-15-51-34-153\",\"log_level\":20,\"master_hostname\":\"algo-1\",\"model_dir\":\"/opt/ml/model\",\"module_dir\":\"s3://sagemaker-us-east-2-411482901950/sagemaker-scikit-learn-2025-05-29-15-51-34-153/source/sourcedir.tar.gz\",\"module_name\":\"vgsales_model\",\"network_interface_name\":\"eth0\",\"num_cpus\":2,\"num_gpus\":0,\"output_data_dir\":\"/opt/ml/output/data\",\"output_dir\":\"/opt/ml/output\",\"output_intermediate_dir\":\"/opt/ml/output/intermediate\",\"resource_config\":{\"current_group_name\":\"homogeneousCluster\",\"current_host\":\"algo-1\",\"current_instance_type\":\"ml.m5.large\",\"hosts\":[\"algo-1\"],\"instance_groups\":[{\"hosts\":[\"algo-1\"],\"instance_group_name\":\"homogeneousCluster\",\"instance_type\":\"ml.m5.large\"}],\"network_interface_name\":\"eth0\"},\"user_entry_point\":\"vgsales_model.py\"}\u001b[0m\n",
      "\u001b[34mSM_USER_ARGS=[]\u001b[0m\n",
      "\u001b[34mSM_OUTPUT_INTERMEDIATE_DIR=/opt/ml/output/intermediate\u001b[0m\n",
      "\u001b[34mSM_CHANNEL_TRAINING=/opt/ml/input/data/training\u001b[0m\n",
      "\u001b[34mPYTHONPATH=/opt/ml/code:/miniconda3/bin:/miniconda3/lib/python37.zip:/miniconda3/lib/python3.7:/miniconda3/lib/python3.7/lib-dynload:/miniconda3/lib/python3.7/site-packages\u001b[0m\n",
      "\u001b[34mInvoking script with the following command:\u001b[0m\n",
      "\u001b[34m/miniconda3/bin/python vgsales_model.py\u001b[0m\n",
      "\n",
      "2025-05-29 15:53:32 Training - Training image download completed. Training in progress.\n",
      "2025-05-29 15:53:32 Uploading - Uploading generated training model\u001b[34m2025-05-29 15:53:29,769 sagemaker-containers INFO     Reporting training SUCCESS\u001b[0m\n",
      "\n",
      "2025-05-29 15:53:50 Completed - Training job completed\n",
      "Training seconds: 99\n",
      "Billable seconds: 99\n"
     ]
    }
   ],
   "source": [
    "from sagemaker.sklearn.estimator import SKLearn\n",
    "\n",
    "sklearn_estimator = SKLearn(\n",
    "    entry_point=\"vgsales_model.py\",\n",
    "    source_dir=\".\",\n",
    "    role=role,\n",
    "    instance_type=\"ml.m5.large\",\n",
    "    framework_version=\"0.23-1\",\n",
    "    py_version=\"py3\",\n",
    "    sagemaker_session=session\n",
    ")\n",
    "\n",
    "sklearn_estimator.fit({\"training\": s3_uri})\n"
   ]
  },
  {
   "cell_type": "code",
   "execution_count": 12,
   "id": "f16728ab-f409-4c39-b8c7-71ac0f91255a",
   "metadata": {},
   "outputs": [
    {
     "name": "stderr",
     "output_type": "stream",
     "text": [
      "INFO:sagemaker:Creating model with name: sagemaker-scikit-learn-2025-05-29-15-55-29-037\n",
      "INFO:sagemaker:Creating endpoint-config with name vgsales-endpoint\n",
      "INFO:sagemaker:Creating endpoint with name vgsales-endpoint\n"
     ]
    },
    {
     "name": "stdout",
     "output_type": "stream",
     "text": [
      "----------!"
     ]
    }
   ],
   "source": [
    "from sagemaker.sklearn.model import SKLearnModel\n",
    "\n",
    "model = SKLearnModel(\n",
    "    model_data=sklearn_estimator.model_data,\n",
    "    role=role,\n",
    "    entry_point=\"vgsales_model.py\",\n",
    "    framework_version=\"0.23-1\",\n",
    "    sagemaker_session=session\n",
    ")\n",
    "\n",
    "predictor = model.deploy(\n",
    "    initial_instance_count=1,\n",
    "    instance_type=\"ml.t2.medium\",\n",
    "    endpoint_name=\"vgsales-endpoint\"\n",
    ")\n"
   ]
  },
  {
   "cell_type": "code",
   "execution_count": 13,
   "id": "91652e6b-fe46-43b8-8cf4-ec484d4a21bd",
   "metadata": {},
   "outputs": [
    {
     "name": "stdout",
     "output_type": "stream",
     "text": [
      "Prediction: b'NA_Sales'\n"
     ]
    }
   ],
   "source": [
    "from sagemaker.predictor import Predictor\n",
    "\n",
    "df = pd.read_csv(\"vgsales.csv\")\n",
    "df = df.dropna(subset=['Platform', 'Genre', 'Publisher', 'Year', 'NA_Sales', 'EU_Sales', 'JP_Sales'])\n",
    "sample = df[['Platform', 'Genre', 'Publisher', 'Year']].iloc[[0]]\n",
    "csv_input = sample.to_csv(index=False, header=False)\n",
    "\n",
    "predictor = Predictor(endpoint_name=\"vgsales-endpoint\")\n",
    "\n",
    "response = predictor.predict(\n",
    "    csv_input,\n",
    "    initial_args={\"ContentType\": \"text/csv\", \"Accept\": \"text/csv\"}\n",
    ")\n",
    "\n",
    "print(\"Prediction:\", response)\n"
   ]
  },
  {
   "cell_type": "code",
   "execution_count": 14,
   "id": "d572e354-4508-4518-8a9e-d10669ed1915",
   "metadata": {},
   "outputs": [
    {
     "name": "stdout",
     "output_type": "stream",
     "text": [
      "Downloaded model to current directory.\n"
     ]
    }
   ],
   "source": [
    "import boto3\n",
    "\n",
    "job_name = sklearn_estimator.latest_training_job.name\n",
    "bucket = session.default_bucket()\n",
    "key_prefix = f\"{job_name}/output\"\n",
    "model_tar_path = f\"s3://{bucket}/{key_prefix}/model.tar.gz\"\n",
    "\n",
    "session.download_data(path=\".\", bucket=bucket, key_prefix=key_prefix)\n",
    "print(\"Downloaded model to current directory.\")\n"
   ]
  },
  {
   "cell_type": "code",
   "execution_count": null,
   "id": "a1e91a50-aa9d-4f1f-84fd-b1fdaf78f3da",
   "metadata": {},
   "outputs": [],
   "source": []
  }
 ],
 "metadata": {
  "kernelspec": {
   "display_name": "Python 3 (ipykernel)",
   "language": "python",
   "name": "python3"
  },
  "language_info": {
   "codemirror_mode": {
    "name": "ipython",
    "version": 3
   },
   "file_extension": ".py",
   "mimetype": "text/x-python",
   "name": "python",
   "nbconvert_exporter": "python",
   "pygments_lexer": "ipython3",
   "version": "3.12.9"
  }
 },
 "nbformat": 4,
 "nbformat_minor": 5
}
